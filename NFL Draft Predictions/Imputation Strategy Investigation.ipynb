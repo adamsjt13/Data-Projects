{
 "cells": [
  {
   "cell_type": "code",
   "execution_count": 18,
   "metadata": {},
   "outputs": [],
   "source": [
    "import pandas as pd\n",
    "import numpy as np\n",
    "import matplotlib.pyplot as plt\n",
    "import seaborn as sns\n",
    "from sklearn.impute import KNNImputer, SimpleImputer\n",
    "from statsmodels.imputation.mice import MICEData"
   ]
  },
  {
   "cell_type": "code",
   "execution_count": 19,
   "metadata": {},
   "outputs": [
    {
     "name": "stdout",
     "output_type": "stream",
     "text": [
      "(7136, 13)\n",
      "Name              object\n",
      "Position          object\n",
      "Height           float64\n",
      "Weight             int64\n",
      "40 Yard Dash     float64\n",
      "Bench Press      float64\n",
      "Vertical Jump    float64\n",
      "Broad Jump       float64\n",
      "Shuttle          float64\n",
      "3 Cone           float64\n",
      "Draft Round      float64\n",
      "Draft Rank       float64\n",
      "Drafted            int64\n",
      "dtype: object\n"
     ]
    },
    {
     "data": {
      "text/html": [
       "<div>\n",
       "<style scoped>\n",
       "    .dataframe tbody tr th:only-of-type {\n",
       "        vertical-align: middle;\n",
       "    }\n",
       "\n",
       "    .dataframe tbody tr th {\n",
       "        vertical-align: top;\n",
       "    }\n",
       "\n",
       "    .dataframe thead th {\n",
       "        text-align: right;\n",
       "    }\n",
       "</style>\n",
       "<table border=\"1\" class=\"dataframe\">\n",
       "  <thead>\n",
       "    <tr style=\"text-align: right;\">\n",
       "      <th></th>\n",
       "      <th>Name</th>\n",
       "      <th>Position</th>\n",
       "      <th>Height</th>\n",
       "      <th>Weight</th>\n",
       "      <th>40 Yard Dash</th>\n",
       "      <th>Bench Press</th>\n",
       "      <th>Vertical Jump</th>\n",
       "      <th>Broad Jump</th>\n",
       "      <th>Shuttle</th>\n",
       "      <th>3 Cone</th>\n",
       "      <th>Draft Round</th>\n",
       "      <th>Draft Rank</th>\n",
       "      <th>Drafted</th>\n",
       "    </tr>\n",
       "  </thead>\n",
       "  <tbody>\n",
       "    <tr>\n",
       "      <th>0</th>\n",
       "      <td>Derek Abney</td>\n",
       "      <td>WR</td>\n",
       "      <td>69.3</td>\n",
       "      <td>179</td>\n",
       "      <td>NaN</td>\n",
       "      <td>NaN</td>\n",
       "      <td>33.5</td>\n",
       "      <td>120.0</td>\n",
       "      <td>4.08</td>\n",
       "      <td>6.89</td>\n",
       "      <td>244.0</td>\n",
       "      <td>7.0</td>\n",
       "      <td>1</td>\n",
       "    </tr>\n",
       "    <tr>\n",
       "      <th>1</th>\n",
       "      <td>Nathaniel Adibi</td>\n",
       "      <td>DE</td>\n",
       "      <td>75.3</td>\n",
       "      <td>254</td>\n",
       "      <td>NaN</td>\n",
       "      <td>NaN</td>\n",
       "      <td>33.0</td>\n",
       "      <td>118.0</td>\n",
       "      <td>4.36</td>\n",
       "      <td>NaN</td>\n",
       "      <td>145.0</td>\n",
       "      <td>5.0</td>\n",
       "      <td>1</td>\n",
       "    </tr>\n",
       "    <tr>\n",
       "      <th>2</th>\n",
       "      <td>Roc Alexander</td>\n",
       "      <td>CB</td>\n",
       "      <td>71.0</td>\n",
       "      <td>185</td>\n",
       "      <td>NaN</td>\n",
       "      <td>NaN</td>\n",
       "      <td>39.5</td>\n",
       "      <td>125.0</td>\n",
       "      <td>4.23</td>\n",
       "      <td>6.97</td>\n",
       "      <td>NaN</td>\n",
       "      <td>NaN</td>\n",
       "      <td>0</td>\n",
       "    </tr>\n",
       "  </tbody>\n",
       "</table>\n",
       "</div>"
      ],
      "text/plain": [
       "              Name Position  Height  Weight  40 Yard Dash  Bench Press  \\\n",
       "0      Derek Abney       WR    69.3     179           NaN          NaN   \n",
       "1  Nathaniel Adibi       DE    75.3     254           NaN          NaN   \n",
       "2    Roc Alexander       CB    71.0     185           NaN          NaN   \n",
       "\n",
       "   Vertical Jump  Broad Jump  Shuttle  3 Cone  Draft Round  Draft Rank  \\\n",
       "0           33.5       120.0     4.08    6.89        244.0         7.0   \n",
       "1           33.0       118.0     4.36     NaN        145.0         5.0   \n",
       "2           39.5       125.0     4.23    6.97          NaN         NaN   \n",
       "\n",
       "   Drafted  \n",
       "0        1  \n",
       "1        1  \n",
       "2        0  "
      ]
     },
     "execution_count": 19,
     "metadata": {},
     "output_type": "execute_result"
    }
   ],
   "source": [
    "data = pd.read_csv('final_data.csv')\n",
    "print(data.shape)\n",
    "print(data.dtypes)\n",
    "data.head(3)"
   ]
  },
  {
   "cell_type": "code",
   "execution_count": 20,
   "metadata": {},
   "outputs": [],
   "source": [
    "### dropping name and saving it for later\n",
    "names = data['Name']\n",
    "data.drop('Name',axis=1,inplace=True)"
   ]
  },
  {
   "cell_type": "code",
   "execution_count": 21,
   "metadata": {},
   "outputs": [
    {
     "data": {
      "text/plain": [
       "Position            0\n",
       "Height              0\n",
       "Weight              0\n",
       "40 Yard Dash     1813\n",
       "Bench Press      3336\n",
       "Vertical Jump    2919\n",
       "Broad Jump       2974\n",
       "Shuttle          3515\n",
       "3 Cone           3661\n",
       "Draft Round      3836\n",
       "Draft Rank       3836\n",
       "Drafted             0\n",
       "dtype: int64"
      ]
     },
     "execution_count": 21,
     "metadata": {},
     "output_type": "execute_result"
    }
   ],
   "source": [
    "### Attempting to determine different ways to imput missing values.\n",
    "### As seen in the NFL Combine Visualization and Data Cleaning, \n",
    "### there are a few options I will be exploring.\n",
    "data.isna().sum()"
   ]
  },
  {
   "cell_type": "code",
   "execution_count": 22,
   "metadata": {},
   "outputs": [
    {
     "data": {
      "text/plain": [
       "Position\n",
       "C      4.63\n",
       "CB     4.15\n",
       "DE     4.41\n",
       "DT     4.65\n",
       "EDG    4.36\n",
       "Name: Shuttle, dtype: float64"
      ]
     },
     "execution_count": 22,
     "metadata": {},
     "output_type": "execute_result"
    }
   ],
   "source": [
    "# 1. Imputing based on position - loop through columns and impute based on median values by position\n",
    "test = data.groupby(['Position'])['Shuttle'].median()\n",
    "test.head()"
   ]
  },
  {
   "cell_type": "code",
   "execution_count": 23,
   "metadata": {},
   "outputs": [
    {
     "data": {
      "text/plain": [
       "Position            0\n",
       "Height              0\n",
       "Weight              0\n",
       "40 Yard Dash        0\n",
       "Bench Press         0\n",
       "Vertical Jump       0\n",
       "Broad Jump          0\n",
       "Shuttle             0\n",
       "3 Cone              0\n",
       "Draft Round      3836\n",
       "Draft Rank       3836\n",
       "Drafted             0\n",
       "dtype: int64"
      ]
     },
     "execution_count": 23,
     "metadata": {},
     "output_type": "execute_result"
    }
   ],
   "source": [
    "### create copy\n",
    "data_imputed_by_position = data.copy()\n",
    "### now loop through list of columns to impute\n",
    "columns_to_impute = ['Height','Weight','40 Yard Dash','Bench Press',\n",
    "                     'Vertical Jump','Broad Jump','Shuttle','3 Cone']\n",
    "for col in columns_to_impute:\n",
    "    data_imputed_by_position[col] = data_imputed_by_position.groupby(['Position'])[col]\\\n",
    "                                    .transform(lambda x: x.fillna(x.median()))\n",
    "\n",
    "data_imputed_by_position.isna().sum()"
   ]
  },
  {
   "cell_type": "code",
   "execution_count": 31,
   "metadata": {},
   "outputs": [
    {
     "data": {
      "text/plain": [
       "Height           0\n",
       "Weight           0\n",
       "40 Yard Dash     0\n",
       "Bench Press      0\n",
       "Vertical Jump    0\n",
       "Broad Jump       0\n",
       "Shuttle          0\n",
       "3 Cone           0\n",
       "dtype: int64"
      ]
     },
     "execution_count": 31,
     "metadata": {},
     "output_type": "execute_result"
    }
   ],
   "source": [
    "# 2. Imputing based on KNN\n",
    "### create copy\n",
    "data_imputed_by_KNN_df = data[columns_to_impute].copy()\n",
    "imputer = KNNImputer(n_neighbors=2)\n",
    "data_imputed_by_KNN = imputer.fit_transform(data_imputed_by_KNN_df)\n",
    "data_imputed_by_KNN = pd.DataFrame(data_imputed_by_KNN,\n",
    "                                  columns=data_imputed_by_KNN_df.columns)\n",
    "data_imputed_by_KNN.isna().sum()"
   ]
  },
  {
   "cell_type": "code",
   "execution_count": 44,
   "metadata": {},
   "outputs": [
    {
     "data": {
      "text/html": [
       "<div>\n",
       "<style scoped>\n",
       "    .dataframe tbody tr th:only-of-type {\n",
       "        vertical-align: middle;\n",
       "    }\n",
       "\n",
       "    .dataframe tbody tr th {\n",
       "        vertical-align: top;\n",
       "    }\n",
       "\n",
       "    .dataframe thead th {\n",
       "        text-align: right;\n",
       "    }\n",
       "</style>\n",
       "<table border=\"1\" class=\"dataframe\">\n",
       "  <thead>\n",
       "    <tr style=\"text-align: right;\">\n",
       "      <th></th>\n",
       "      <th>Height</th>\n",
       "      <th>Weight</th>\n",
       "      <th>40 Yard Dash</th>\n",
       "      <th>Bench Press</th>\n",
       "      <th>Vertical Jump</th>\n",
       "      <th>Broad Jump</th>\n",
       "      <th>Shuttle</th>\n",
       "      <th>3 Cone</th>\n",
       "    </tr>\n",
       "  </thead>\n",
       "  <tbody>\n",
       "    <tr>\n",
       "      <th>0</th>\n",
       "      <td>69.3</td>\n",
       "      <td>179</td>\n",
       "      <td>0.000239</td>\n",
       "      <td>0.166842</td>\n",
       "      <td>33.5</td>\n",
       "      <td>120.0</td>\n",
       "      <td>4.08</td>\n",
       "      <td>6.890000</td>\n",
       "    </tr>\n",
       "    <tr>\n",
       "      <th>1</th>\n",
       "      <td>75.3</td>\n",
       "      <td>254</td>\n",
       "      <td>0.000239</td>\n",
       "      <td>0.166842</td>\n",
       "      <td>33.0</td>\n",
       "      <td>118.0</td>\n",
       "      <td>4.36</td>\n",
       "      <td>0.003232</td>\n",
       "    </tr>\n",
       "    <tr>\n",
       "      <th>2</th>\n",
       "      <td>71.0</td>\n",
       "      <td>185</td>\n",
       "      <td>0.000239</td>\n",
       "      <td>0.166842</td>\n",
       "      <td>39.5</td>\n",
       "      <td>125.0</td>\n",
       "      <td>4.23</td>\n",
       "      <td>6.970000</td>\n",
       "    </tr>\n",
       "    <tr>\n",
       "      <th>3</th>\n",
       "      <td>72.0</td>\n",
       "      <td>210</td>\n",
       "      <td>0.000239</td>\n",
       "      <td>0.166842</td>\n",
       "      <td>32.0</td>\n",
       "      <td>114.0</td>\n",
       "      <td>4.43</td>\n",
       "      <td>7.410000</td>\n",
       "    </tr>\n",
       "    <tr>\n",
       "      <th>4</th>\n",
       "      <td>78.0</td>\n",
       "      <td>265</td>\n",
       "      <td>0.000239</td>\n",
       "      <td>13.000000</td>\n",
       "      <td>33.0</td>\n",
       "      <td>120.0</td>\n",
       "      <td>4.34</td>\n",
       "      <td>7.110000</td>\n",
       "    </tr>\n",
       "  </tbody>\n",
       "</table>\n",
       "</div>"
      ],
      "text/plain": [
       "   Height  Weight  40 Yard Dash  Bench Press  Vertical Jump  Broad Jump  \\\n",
       "0    69.3     179      0.000239     0.166842           33.5       120.0   \n",
       "1    75.3     254      0.000239     0.166842           33.0       118.0   \n",
       "2    71.0     185      0.000239     0.166842           39.5       125.0   \n",
       "3    72.0     210      0.000239     0.166842           32.0       114.0   \n",
       "4    78.0     265      0.000239    13.000000           33.0       120.0   \n",
       "\n",
       "   Shuttle    3 Cone  \n",
       "0     4.08  6.890000  \n",
       "1     4.36  0.003232  \n",
       "2     4.23  6.970000  \n",
       "3     4.43  7.410000  \n",
       "4     4.34  7.110000  "
      ]
     },
     "execution_count": 44,
     "metadata": {},
     "output_type": "execute_result"
    }
   ],
   "source": [
    "# 3. Imputing based on MICE\n",
    "### create copy\n",
    "data_imputed_by_MICE_df = data[columns_to_impute].copy()\n",
    "data_imputed_by_MICE = MICEData(data_imputed_by_MICE_df,k_pmm=3).data\n",
    "data_imputed_by_MICE.head()"
   ]
  },
  {
   "cell_type": "code",
   "execution_count": 33,
   "metadata": {},
   "outputs": [
    {
     "data": {
      "text/plain": [
       "Height           0\n",
       "Weight           0\n",
       "40 Yard Dash     0\n",
       "Bench Press      0\n",
       "Vertical Jump    0\n",
       "Broad Jump       0\n",
       "Shuttle          0\n",
       "3 Cone           0\n",
       "dtype: int64"
      ]
     },
     "execution_count": 33,
     "metadata": {},
     "output_type": "execute_result"
    }
   ],
   "source": [
    "# 4. Imputing based on simple median\n",
    "### create copy\n",
    "data_imputed_by_median_df = data[columns_to_impute].copy()\n",
    "imputer = SimpleImputer(strategy='median')\n",
    "data_imputed_by_median = imputer.fit_transform(data_imputed_by_median_df)\n",
    "data_imputed_by_median = pd.DataFrame(data_imputed_by_median,\n",
    "                                  columns=data_imputed_by_median_df.columns)\n",
    "data_imputed_by_median.isna().sum()"
   ]
  },
  {
   "cell_type": "code",
   "execution_count": 38,
   "metadata": {},
   "outputs": [
    {
     "data": {
      "text/html": [
       "<div>\n",
       "<style scoped>\n",
       "    .dataframe tbody tr th:only-of-type {\n",
       "        vertical-align: middle;\n",
       "    }\n",
       "\n",
       "    .dataframe tbody tr th {\n",
       "        vertical-align: top;\n",
       "    }\n",
       "\n",
       "    .dataframe thead th {\n",
       "        text-align: right;\n",
       "    }\n",
       "</style>\n",
       "<table border=\"1\" class=\"dataframe\">\n",
       "  <thead>\n",
       "    <tr style=\"text-align: right;\">\n",
       "      <th></th>\n",
       "      <th>columns</th>\n",
       "      <th>value</th>\n",
       "    </tr>\n",
       "  </thead>\n",
       "  <tbody>\n",
       "    <tr>\n",
       "      <th>0</th>\n",
       "      <td>data_imputed_by_position</td>\n",
       "      <td>4.52</td>\n",
       "    </tr>\n",
       "    <tr>\n",
       "      <th>1</th>\n",
       "      <td>data_imputed_by_position</td>\n",
       "      <td>4.84</td>\n",
       "    </tr>\n",
       "    <tr>\n",
       "      <th>2</th>\n",
       "      <td>data_imputed_by_position</td>\n",
       "      <td>4.50</td>\n",
       "    </tr>\n",
       "    <tr>\n",
       "      <th>3</th>\n",
       "      <td>data_imputed_by_position</td>\n",
       "      <td>4.55</td>\n",
       "    </tr>\n",
       "    <tr>\n",
       "      <th>4</th>\n",
       "      <td>data_imputed_by_position</td>\n",
       "      <td>4.84</td>\n",
       "    </tr>\n",
       "  </tbody>\n",
       "</table>\n",
       "</div>"
      ],
      "text/plain": [
       "                    columns  value\n",
       "0  data_imputed_by_position   4.52\n",
       "1  data_imputed_by_position   4.84\n",
       "2  data_imputed_by_position   4.50\n",
       "3  data_imputed_by_position   4.55\n",
       "4  data_imputed_by_position   4.84"
      ]
     },
     "execution_count": 38,
     "metadata": {},
     "output_type": "execute_result"
    }
   ],
   "source": [
    "### check resulting distributions\n",
    "check_imputations = {'data_imputed_by_position':data_imputed_by_position['40 Yard Dash'],\n",
    "                     'data_imputed_by_KNN':data_imputed_by_KNN['40 Yard Dash'],\n",
    "                     'data_imputed_by_MICE':data_imputed_by_MICE['40 Yard Dash'],\n",
    "                     'data_imputed_by_median':data_imputed_by_median['40 Yard Dash']}\n",
    "check_imputations = pd.DataFrame(check_imputations)\n",
    "check_imputations = check_imputations.melt(var_name='columns')\n",
    "check_imputations.head()"
   ]
  },
  {
   "cell_type": "code",
   "execution_count": 40,
   "metadata": {},
   "outputs": [
    {
     "name": "stderr",
     "output_type": "stream",
     "text": [
      "/anaconda3/lib/python3.7/site-packages/scipy/stats/stats.py:1713: FutureWarning: Using a non-tuple sequence for multidimensional indexing is deprecated; use `arr[tuple(seq)]` instead of `arr[seq]`. In the future this will be interpreted as an array index, `arr[np.array(seq)]`, which will result either in an error or a different result.\n",
      "  return np.add.reduce(sorted[indexer] * weights, axis=axis) / sumval\n"
     ]
    },
    {
     "data": {
      "text/plain": [
       "<seaborn.axisgrid.FacetGrid at 0x1a243d2be0>"
      ]
     },
     "execution_count": 40,
     "metadata": {},
     "output_type": "execute_result"
    },
    {
     "data": {
      "image/png": "[encoded data removed]",
      "text/plain": [
       "<Figure size 886.625x720 with 1 Axes>"
      ]
     },
     "metadata": {
      "needs_background": "light"
     },
     "output_type": "display_data"
    }
   ],
   "source": [
    "(sns\n",
    "  .FacetGrid(check_imputations, \n",
    "             hue='columns',\n",
    "             height=10)\n",
    "  .map(sns.kdeplot, 'value', shade=True)\n",
    " .add_legend()\n",
    ")"
   ]
  },
  {
   "cell_type": "code",
   "execution_count": 41,
   "metadata": {},
   "outputs": [
    {
     "data": {
      "text/html": [
       "<div>\n",
       "<style scoped>\n",
       "    .dataframe tbody tr th:only-of-type {\n",
       "        vertical-align: middle;\n",
       "    }\n",
       "\n",
       "    .dataframe tbody tr th {\n",
       "        vertical-align: top;\n",
       "    }\n",
       "\n",
       "    .dataframe thead th {\n",
       "        text-align: right;\n",
       "    }\n",
       "</style>\n",
       "<table border=\"1\" class=\"dataframe\">\n",
       "  <thead>\n",
       "    <tr style=\"text-align: right;\">\n",
       "      <th></th>\n",
       "      <th>columns</th>\n",
       "      <th>value</th>\n",
       "    </tr>\n",
       "  </thead>\n",
       "  <tbody>\n",
       "    <tr>\n",
       "      <th>0</th>\n",
       "      <td>data_imputed_by_position</td>\n",
       "      <td>14.0</td>\n",
       "    </tr>\n",
       "    <tr>\n",
       "      <th>1</th>\n",
       "      <td>data_imputed_by_position</td>\n",
       "      <td>24.0</td>\n",
       "    </tr>\n",
       "    <tr>\n",
       "      <th>2</th>\n",
       "      <td>data_imputed_by_position</td>\n",
       "      <td>15.0</td>\n",
       "    </tr>\n",
       "    <tr>\n",
       "      <th>3</th>\n",
       "      <td>data_imputed_by_position</td>\n",
       "      <td>19.0</td>\n",
       "    </tr>\n",
       "    <tr>\n",
       "      <th>4</th>\n",
       "      <td>data_imputed_by_position</td>\n",
       "      <td>13.0</td>\n",
       "    </tr>\n",
       "  </tbody>\n",
       "</table>\n",
       "</div>"
      ],
      "text/plain": [
       "                    columns  value\n",
       "0  data_imputed_by_position   14.0\n",
       "1  data_imputed_by_position   24.0\n",
       "2  data_imputed_by_position   15.0\n",
       "3  data_imputed_by_position   19.0\n",
       "4  data_imputed_by_position   13.0"
      ]
     },
     "execution_count": 41,
     "metadata": {},
     "output_type": "execute_result"
    }
   ],
   "source": [
    "### check resulting distributions\n",
    "check_imputations = {'data_imputed_by_position':data_imputed_by_position['Bench Press'],\n",
    "                     'data_imputed_by_KNN':data_imputed_by_KNN['Bench Press'],\n",
    "                     'data_imputed_by_MICE':data_imputed_by_MICE['Bench Press'],\n",
    "                     'data_imputed_by_median':data_imputed_by_median['Bench Press']}\n",
    "check_imputations = pd.DataFrame(check_imputations)\n",
    "check_imputations = check_imputations.melt(var_name='columns')\n",
    "check_imputations.head()"
   ]
  },
  {
   "cell_type": "code",
   "execution_count": 42,
   "metadata": {},
   "outputs": [
    {
     "data": {
      "text/plain": [
       "<seaborn.axisgrid.FacetGrid at 0x1a23f065c0>"
      ]
     },
     "execution_count": 42,
     "metadata": {},
     "output_type": "execute_result"
    },
    {
     "data": {
      "image/png": "[encoded data removed]",
      "text/plain": [
       "<Figure size 886.625x720 with 1 Axes>"
      ]
     },
     "metadata": {
      "needs_background": "light"
     },
     "output_type": "display_data"
    }
   ],
   "source": [
    "(sns\n",
    "  .FacetGrid(check_imputations, \n",
    "             hue='columns',\n",
    "             height=10)\n",
    "  .map(sns.kdeplot, 'value', shade=True)\n",
    " .add_legend()\n",
    ")"
   ]
  },
  {
   "cell_type": "code",
   "execution_count": 64,
   "metadata": {},
   "outputs": [],
   "source": [
    "### imputation by MICE and median appear to be much worse than by position median and KNN\n",
    "### write pipeline class to allow imputation strategy to be a tunable parameter\n",
    "from sklearn.base import TransformerMixin, BaseEstimator\n",
    "class CustomImputer(TransformerMixin, BaseEstimator):\n",
    "    def __init__(self, imputeMethod = 'GroupMedian', columns_to_impute=['Height','Weight','40 Yard Dash',\n",
    "                    'Bench Press','Vertical Jump','Broad Jump','Shuttle','3 Cone']):\n",
    "        \"\"\"\n",
    "        \"\"\"\n",
    "        self.imputeMethod = imputeMethod\n",
    "        self.columns_to_impute = columns_to_impute\n",
    "    def fit(self, X, y=None):  \n",
    "        return self\n",
    "    def transform(self, X, y=None):\n",
    "        if self.imputeMethod=='GroupMedian':\n",
    "            for col in self.columns_to_impute:\n",
    "                X[col] = X.groupby(['Position'])[col].transform(lambda x: x.fillna(x.median()))\n",
    "        elif self.imputeMethod=='KNN':\n",
    "            X = KNNImputer(n_neighbors=2).fit_transform(X[self.columns_to_impute])\n",
    "        elif self.imputeMethod=='Simple':\n",
    "            X = SimpleImputer(strategy='median').fit_transform(X[self.columns_to_impute])\n",
    "        else:\n",
    "            print(\"\"\"Not a valid imputation strategy. \n",
    "            Please enter 'GroupMedian','KNN', or 'Simple'\"\"\")\n",
    "\n",
    "        return X"
   ]
  },
  {
   "cell_type": "code",
   "execution_count": 65,
   "metadata": {},
   "outputs": [
    {
     "name": "stdout",
     "output_type": "stream",
     "text": [
      "Not a valid imputation strategy. \n",
      "            Please enter 'GroupMedian','KNN', or 'Simple'\n"
     ]
    }
   ],
   "source": [
    "test = CustomImputer(imputeMethod='test').fit_transform(data)"
   ]
  },
  {
   "cell_type": "code",
   "execution_count": null,
   "metadata": {},
   "outputs": [],
   "source": []
  }
 ],
 "metadata": {
  "kernelspec": {
   "display_name": "Python 3",
   "language": "python",
   "name": "python3"
  },
  "language_info": {
   "codemirror_mode": {
    "name": "ipython",
    "version": 3
   },
   "file_extension": ".py",
   "mimetype": "text/x-python",
   "name": "python",
   "nbconvert_exporter": "python",
   "pygments_lexer": "ipython3",
   "version": "3.7.1"
  }
 },
 "nbformat": 4,
 "nbformat_minor": 2
}
