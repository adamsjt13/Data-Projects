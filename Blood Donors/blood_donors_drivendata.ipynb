{
 "cells": [
  {
   "cell_type": "markdown",
   "metadata": {},
   "source": [
    "# Predicting Blood Donors - Driven Data Competition\n",
    "This dataset is part of a competition on drivendata.org and the goal is to predict who will donate to a blood drive "
   ]
  },
  {
   "cell_type": "markdown",
   "metadata": {},
   "source": [
    "# Data Import and Exploration"
   ]
  },
  {
   "cell_type": "code",
   "execution_count": 162,
   "metadata": {},
   "outputs": [],
   "source": [
    "import pandas as pd\n",
    "import numpy as np\n",
    "import matplotlib as plt\n",
    "from sklearn.ensemble import RandomForestClassifier\n",
    "from sklearn.naive_bayes import GaussianNB\n",
    "from sklearn.metrics import accuracy_score\n",
    "from sklearn.model_selection import train_test_split \n",
    "from sklearn import preprocessing \n",
    "from math import log\n",
    "\n",
    "%matplotlib inline"
   ]
  },
  {
   "cell_type": "code",
   "execution_count": 94,
   "metadata": {},
   "outputs": [],
   "source": [
    "# read in the training data set\n",
    "train = pd.read_csv(\"training_data.csv\")\n",
    "# read in test data set\n",
    "test = pd.read_csv(\"test_data.csv\")"
   ]
  },
  {
   "cell_type": "code",
   "execution_count": 15,
   "metadata": {},
   "outputs": [
    {
     "name": "stdout",
     "output_type": "stream",
     "text": [
      "Shape of training data:  (576, 6) \n",
      "\n",
      "Top 5 rows of training data: \n",
      "    Unnamed: 0  Months since Last Donation  Number of Donations  \\\n",
      "0         619                           2                   50   \n",
      "1         664                           0                   13   \n",
      "2         441                           1                   16   \n",
      "3         160                           2                   20   \n",
      "4         358                           1                   24   \n",
      "\n",
      "   Total Volume Donated (c.c.)  Months since First Donation  \\\n",
      "0                        12500                           98   \n",
      "1                         3250                           28   \n",
      "2                         4000                           35   \n",
      "3                         5000                           45   \n",
      "4                         6000                           77   \n",
      "\n",
      "   Made Donation in March 2007  \n",
      "0                            1  \n",
      "1                            1  \n",
      "2                            1  \n",
      "3                            1  \n",
      "4                            0   \n",
      "\n",
      "Data types of training data: \n",
      " Unnamed: 0                     int64\n",
      "Months since Last Donation     int64\n",
      "Number of Donations            int64\n",
      "Total Volume Donated (c.c.)    int64\n",
      "Months since First Donation    int64\n",
      "Made Donation in March 2007    int64\n",
      "dtype: object \n",
      "\n",
      "Summary of training data: \n",
      "        Unnamed: 0  Months since Last Donation  Number of Donations  \\\n",
      "count  576.000000                  576.000000           576.000000   \n",
      "mean   374.034722                    9.439236             5.427083   \n",
      "std    216.947773                    8.175454             5.740010   \n",
      "min      0.000000                    0.000000             1.000000   \n",
      "25%    183.750000                    2.000000             2.000000   \n",
      "50%    375.500000                    7.000000             4.000000   \n",
      "75%    562.500000                   14.000000             7.000000   \n",
      "max    747.000000                   74.000000            50.000000   \n",
      "\n",
      "       Total Volume Donated (c.c.)  Months since First Donation  \\\n",
      "count                   576.000000                   576.000000   \n",
      "mean                   1356.770833                    34.050347   \n",
      "std                    1435.002556                    24.227672   \n",
      "min                     250.000000                     2.000000   \n",
      "25%                     500.000000                    16.000000   \n",
      "50%                    1000.000000                    28.000000   \n",
      "75%                    1750.000000                    49.250000   \n",
      "max                   12500.000000                    98.000000   \n",
      "\n",
      "       Made Donation in March 2007  \n",
      "count                   576.000000  \n",
      "mean                      0.239583  \n",
      "std                       0.427200  \n",
      "min                       0.000000  \n",
      "25%                       0.000000  \n",
      "50%                       0.000000  \n",
      "75%                       0.000000  \n",
      "max                       1.000000   \n",
      "\n",
      "Number of missing values in training data: \n",
      " Unnamed: 0                     0\n",
      "Months since Last Donation     0\n",
      "Number of Donations            0\n",
      "Total Volume Donated (c.c.)    0\n",
      "Months since First Donation    0\n",
      "Made Donation in March 2007    0\n",
      "dtype: int64 \n",
      "\n"
     ]
    }
   ],
   "source": [
    "print(\"Shape of training data: \", train.shape, \"\\n\")\n",
    "print(\"Top 5 rows of training data: \\n\", train.head(5), \"\\n\")\n",
    "print(\"Data types of training data: \\n\", train.dtypes, \"\\n\")\n",
    "print(\"Summary of training data: \\n\", train.describe(), \"\\n\")\n",
    "print(\"Number of missing values in training data: \\n\", train.isna().sum(), \"\\n\")"
   ]
  },
  {
   "cell_type": "code",
   "execution_count": 95,
   "metadata": {},
   "outputs": [
    {
     "name": "stdout",
     "output_type": "stream",
     "text": [
      "0    1\n",
      "1    1\n",
      "2    1\n",
      "3    1\n",
      "4    0\n",
      "5    0\n",
      "6    1\n",
      "7    0\n",
      "8    1\n",
      "9    0\n",
      "Name: Made Donation in March 2007, dtype: int64\n"
     ]
    },
    {
     "data": {
      "text/html": [
       "<div>\n",
       "<style scoped>\n",
       "    .dataframe tbody tr th:only-of-type {\n",
       "        vertical-align: middle;\n",
       "    }\n",
       "\n",
       "    .dataframe tbody tr th {\n",
       "        vertical-align: top;\n",
       "    }\n",
       "\n",
       "    .dataframe thead th {\n",
       "        text-align: right;\n",
       "    }\n",
       "</style>\n",
       "<table border=\"1\" class=\"dataframe\">\n",
       "  <thead>\n",
       "    <tr style=\"text-align: right;\">\n",
       "      <th></th>\n",
       "      <th>Months since Last Donation</th>\n",
       "      <th>Number of Donations</th>\n",
       "      <th>Total Volume Donated (c.c.)</th>\n",
       "      <th>Months since First Donation</th>\n",
       "    </tr>\n",
       "  </thead>\n",
       "  <tbody>\n",
       "    <tr>\n",
       "      <th>0</th>\n",
       "      <td>2</td>\n",
       "      <td>50</td>\n",
       "      <td>12500</td>\n",
       "      <td>98</td>\n",
       "    </tr>\n",
       "    <tr>\n",
       "      <th>1</th>\n",
       "      <td>0</td>\n",
       "      <td>13</td>\n",
       "      <td>3250</td>\n",
       "      <td>28</td>\n",
       "    </tr>\n",
       "    <tr>\n",
       "      <th>2</th>\n",
       "      <td>1</td>\n",
       "      <td>16</td>\n",
       "      <td>4000</td>\n",
       "      <td>35</td>\n",
       "    </tr>\n",
       "    <tr>\n",
       "      <th>3</th>\n",
       "      <td>2</td>\n",
       "      <td>20</td>\n",
       "      <td>5000</td>\n",
       "      <td>45</td>\n",
       "    </tr>\n",
       "    <tr>\n",
       "      <th>4</th>\n",
       "      <td>1</td>\n",
       "      <td>24</td>\n",
       "      <td>6000</td>\n",
       "      <td>77</td>\n",
       "    </tr>\n",
       "  </tbody>\n",
       "</table>\n",
       "</div>"
      ],
      "text/plain": [
       "   Months since Last Donation  Number of Donations  \\\n",
       "0                           2                   50   \n",
       "1                           0                   13   \n",
       "2                           1                   16   \n",
       "3                           2                   20   \n",
       "4                           1                   24   \n",
       "\n",
       "   Total Volume Donated (c.c.)  Months since First Donation  \n",
       "0                        12500                           98  \n",
       "1                         3250                           28  \n",
       "2                         4000                           35  \n",
       "3                         5000                           45  \n",
       "4                         6000                           77  "
      ]
     },
     "execution_count": 95,
     "metadata": {},
     "output_type": "execute_result"
    }
   ],
   "source": [
    "# The training data set contains the target label for each row (whether a person donated) so we need\n",
    "# to remove that and store it before using the data to make predictions\n",
    "# also need to remove and store the first column of id numbers\n",
    "y = train[\"Made Donation in March 2007\"]\n",
    "ids = train[\"Unnamed: 0\"]\n",
    "\n",
    "# take a look at labels to make sure the correct information is present\n",
    "print(y[0:10])\n",
    "\n",
    "# remove the columns \n",
    "train = train.drop(columns = [\"Made Donation in March 2007\",\"Unnamed: 0\"])\n",
    "\n",
    "# check dataframe to confirm dropped columns\n",
    "train.head()"
   ]
  },
  {
   "cell_type": "code",
   "execution_count": 96,
   "metadata": {},
   "outputs": [
    {
     "data": {
      "text/plain": [
       "array([[<matplotlib.axes._subplots.AxesSubplot object at 0x000001FF0FE63630>,\n",
       "        <matplotlib.axes._subplots.AxesSubplot object at 0x000001FF0FEA1AC8>],\n",
       "       [<matplotlib.axes._subplots.AxesSubplot object at 0x000001FF0FED4160>,\n",
       "        <matplotlib.axes._subplots.AxesSubplot object at 0x000001FF0FEFA7F0>]],\n",
       "      dtype=object)"
      ]
     },
     "execution_count": 96,
     "metadata": {},
     "output_type": "execute_result"
    },
    {
     "data": {
      "image/png": "[encoded data removed]",
      "text/plain": [
       "<Figure size 432x288 with 4 Axes>"
      ]
     },
     "metadata": {},
     "output_type": "display_data"
    }
   ],
   "source": [
    "# check histograms of columns\n",
    "train.hist()"
   ]
  },
  {
   "cell_type": "code",
   "execution_count": 97,
   "metadata": {},
   "outputs": [
    {
     "name": "stdout",
     "output_type": "stream",
     "text": [
      "Outliers in Months since last donation:  4\n",
      "Outliers in number of donations:  6\n",
      "Outliers in volume donated:  6\n"
     ]
    }
   ],
   "source": [
    "# check number of outliers\n",
    "# months since last donation appears to have most data below 30 months. check to see how many rows are greater than 30\n",
    "print(\"Outliers in Months since last donation: \", (train[\"Months since Last Donation\"] > 30).sum())\n",
    "# number of donations outliers occur somewhere between 20 and 40, we will say roughly 30 again\n",
    "print(\"Outliers in number of donations: \", (train[\"Number of Donations\"] > 30).sum())\n",
    "# total volume donated has a outlier cutoff around 6000 or so\n",
    "print(\"Outliers in volume donated: \", (train[\"Total Volume Donated (c.c.)\"] > 6000).sum())"
   ]
  },
  {
   "cell_type": "markdown",
   "metadata": {},
   "source": [
    "***There appear to be a small number of outliers in each column. Roughly 1% or so (6 out of 576) entries of the each column. If I make the assumption that each outlier is an independent row (it is possible that some rows are outliers in mulitple columns) then at most around 3% of the data (16/576 rows) would be deleted if I chose to remove outliers. Some classification algorithms such as random forest are extremely robust to outliers so it would not affect them much if I left these rows in the data. However I am going to make the decision to remove the outliers.***"
   ]
  },
  {
   "cell_type": "code",
   "execution_count": 98,
   "metadata": {},
   "outputs": [
    {
     "name": "stdout",
     "output_type": "stream",
     "text": [
      "(566, 4)\n",
      "   Months since Last Donation  Number of Donations  \\\n",
      "1                           0                   13   \n",
      "2                           1                   16   \n",
      "3                           2                   20   \n",
      "4                           1                   24   \n",
      "5                           4                    4   \n",
      "\n",
      "   Total Volume Donated (c.c.)  Months since First Donation  \n",
      "1                         3250                           28  \n",
      "2                         4000                           35  \n",
      "3                         5000                           45  \n",
      "4                         6000                           77  \n",
      "5                         1000                            4  \n"
     ]
    },
    {
     "data": {
      "text/plain": [
       "array([[<matplotlib.axes._subplots.AxesSubplot object at 0x000001FF0FF88588>,\n",
       "        <matplotlib.axes._subplots.AxesSubplot object at 0x000001FF0FFF3518>],\n",
       "       [<matplotlib.axes._subplots.AxesSubplot object at 0x000001FF10018B70>,\n",
       "        <matplotlib.axes._subplots.AxesSubplot object at 0x000001FF1004A208>]],\n",
       "      dtype=object)"
      ]
     },
     "execution_count": 98,
     "metadata": {},
     "output_type": "execute_result"
    },
    {
     "data": {
      "image/png": "[encoded data removed]",
      "text/plain": [
       "<Figure size 432x288 with 4 Axes>"
      ]
     },
     "metadata": {},
     "output_type": "display_data"
    }
   ],
   "source": [
    "# combined logic checks for outliers from above. create a logical vector for subsetting data frame\n",
    "outliers = (train[\"Months since Last Donation\"] > 30) \\\n",
    "| (train[\"Number of Donations\"] > 30) \\\n",
    "| (train[\"Total Volume Donated (c.c.)\"] > 6000)\n",
    "\n",
    "# subset training data\n",
    "train_no_outliers = train[~outliers]\n",
    "\n",
    "# check training data without outliers\n",
    "print(train_no_outliers.shape)\n",
    "print(train_no_outliers.head(5))\n",
    "train_no_outliers.hist()"
   ]
  },
  {
   "cell_type": "code",
   "execution_count": 99,
   "metadata": {},
   "outputs": [
    {
     "data": {
      "text/plain": [
       "566"
      ]
     },
     "execution_count": 99,
     "metadata": {},
     "output_type": "execute_result"
    }
   ],
   "source": [
    "# need to make sure to create labels without outliers as well\n",
    "y_no_outliers = y[~outliers]\n",
    "ids_no_outliers = ids[~outliers]\n",
    "\n",
    "#check length of labels\n",
    "len(y_no_outliers)"
   ]
  },
  {
   "cell_type": "markdown",
   "metadata": {},
   "source": [
    "***Even after outliers have been removed there appears to be some skew in the data of number of donations as well as total volume donated. Another point to take in to consideration is the scale of the values from the different columns. Months since last donation ranges from 0 to 30 while the total volume donated ranges from 0 to 6000. This will cause some algorithms to heavily weight the influence of total volume due to its large values. Therefore scaling or normalization will be a necessary step for those algorithms.***"
   ]
  },
  {
   "cell_type": "code",
   "execution_count": 100,
   "metadata": {},
   "outputs": [
    {
     "name": "stdout",
     "output_type": "stream",
     "text": [
      "   Months since Last Donation  Number of Donations  \\\n",
      "1                   -1.292291             1.846876   \n",
      "2                   -1.151060             2.545006   \n",
      "3                   -1.009828             3.475845   \n",
      "4                   -1.151060             4.406683   \n",
      "5                   -0.727366            -0.247511   \n",
      "\n",
      "   Total Volume Donated (c.c.)  Months since First Donation  \n",
      "1                     1.846876                    -0.221954  \n",
      "2                     2.545006                     0.077155  \n",
      "3                     3.475845                     0.504454  \n",
      "4                     4.406683                     1.871808  \n",
      "5                    -0.247511                    -1.247469  \n"
     ]
    },
    {
     "data": {
      "text/plain": [
       "array([[<matplotlib.axes._subplots.AxesSubplot object at 0x000001FF100D05C0>,\n",
       "        <matplotlib.axes._subplots.AxesSubplot object at 0x000001FF1015EF60>],\n",
       "       [<matplotlib.axes._subplots.AxesSubplot object at 0x000001FF1018F630>,\n",
       "        <matplotlib.axes._subplots.AxesSubplot object at 0x000001FF101B4C88>]],\n",
       "      dtype=object)"
      ]
     },
     "execution_count": 100,
     "metadata": {},
     "output_type": "execute_result"
    },
    {
     "data": {
      "image/png": "[encoded data removed]",
      "text/plain": [
       "<Figure size 432x288 with 4 Axes>"
      ]
     },
     "metadata": {},
     "output_type": "display_data"
    }
   ],
   "source": [
    "# standardizing data set\n",
    "std_scale = preprocessing.StandardScaler().fit(train_no_outliers)\n",
    "train_std = std_scale.transform(train_no_outliers)\n",
    "# create data frame from scaled data\n",
    "train_std = pd.DataFrame(train_std, index=train_no_outliers.index, columns=train_no_outliers.columns)\n",
    "# check top rows and histograms of scaled data\n",
    "print(train_std.head())\n",
    "train_std.hist()"
   ]
  },
  {
   "cell_type": "markdown",
   "metadata": {},
   "source": [
    "*** Since the test data provided for this competition does not have labels, I have chosen to split my training data into train/test sets for model evaluation***"
   ]
  },
  {
   "cell_type": "code",
   "execution_count": 103,
   "metadata": {},
   "outputs": [
    {
     "name": "stdout",
     "output_type": "stream",
     "text": [
      "(396, 4)\n",
      "396\n"
     ]
    },
    {
     "data": {
      "text/html": [
       "<div>\n",
       "<style scoped>\n",
       "    .dataframe tbody tr th:only-of-type {\n",
       "        vertical-align: middle;\n",
       "    }\n",
       "\n",
       "    .dataframe tbody tr th {\n",
       "        vertical-align: top;\n",
       "    }\n",
       "\n",
       "    .dataframe thead th {\n",
       "        text-align: right;\n",
       "    }\n",
       "</style>\n",
       "<table border=\"1\" class=\"dataframe\">\n",
       "  <thead>\n",
       "    <tr style=\"text-align: right;\">\n",
       "      <th></th>\n",
       "      <th>Months since Last Donation</th>\n",
       "      <th>Number of Donations</th>\n",
       "      <th>Total Volume Donated (c.c.)</th>\n",
       "      <th>Months since First Donation</th>\n",
       "    </tr>\n",
       "  </thead>\n",
       "  <tbody>\n",
       "    <tr>\n",
       "      <th>382</th>\n",
       "      <td>1.956028</td>\n",
       "      <td>-0.247511</td>\n",
       "      <td>-0.247511</td>\n",
       "      <td>2.299106</td>\n",
       "    </tr>\n",
       "    <tr>\n",
       "      <th>168</th>\n",
       "      <td>-0.727366</td>\n",
       "      <td>-0.945640</td>\n",
       "      <td>-0.945640</td>\n",
       "      <td>-1.247469</td>\n",
       "    </tr>\n",
       "    <tr>\n",
       "      <th>341</th>\n",
       "      <td>1.956028</td>\n",
       "      <td>1.614167</td>\n",
       "      <td>1.614167</td>\n",
       "      <td>2.256376</td>\n",
       "    </tr>\n",
       "    <tr>\n",
       "      <th>323</th>\n",
       "      <td>1.673565</td>\n",
       "      <td>-0.712931</td>\n",
       "      <td>-0.712931</td>\n",
       "      <td>-0.435603</td>\n",
       "    </tr>\n",
       "    <tr>\n",
       "      <th>326</th>\n",
       "      <td>0.967409</td>\n",
       "      <td>-0.014801</td>\n",
       "      <td>-0.014801</td>\n",
       "      <td>1.145401</td>\n",
       "    </tr>\n",
       "  </tbody>\n",
       "</table>\n",
       "</div>"
      ],
      "text/plain": [
       "     Months since Last Donation  Number of Donations  \\\n",
       "382                    1.956028            -0.247511   \n",
       "168                   -0.727366            -0.945640   \n",
       "341                    1.956028             1.614167   \n",
       "323                    1.673565            -0.712931   \n",
       "326                    0.967409            -0.014801   \n",
       "\n",
       "     Total Volume Donated (c.c.)  Months since First Donation  \n",
       "382                    -0.247511                     2.299106  \n",
       "168                    -0.945640                    -1.247469  \n",
       "341                     1.614167                     2.256376  \n",
       "323                    -0.712931                    -0.435603  \n",
       "326                    -0.014801                     1.145401  "
      ]
     },
     "execution_count": 103,
     "metadata": {},
     "output_type": "execute_result"
    }
   ],
   "source": [
    "# create train/test split for model evaluation\n",
    "X_train, X_test, y_train, y_test = train_test_split(train_std, y_no_outliers, test_size = .3, random_state = 1337)\n",
    "# quick data check\n",
    "print(X_train.shape)\n",
    "print(len(y_train))\n",
    "X_train.head()"
   ]
  },
  {
   "cell_type": "code",
   "execution_count": 160,
   "metadata": {},
   "outputs": [],
   "source": [
    "# This competition uses log loss as its evaluation metric, therefore I will create a function to calculate log loss\n",
    "def log_loss(predictions, actuals):\n",
    "    predictions, actuals = np.array(predictions), np.array(actuals)\n",
    "    n = len(predictions)\n",
    "    return  - sum( (actuals * [log(i) if i != 0 else 0 for i in predictions]) \\\n",
    "                  + ((1-actuals)*[log(1-i) if i != 1 else 1 for i in predictions] )) / n"
   ]
  },
  {
   "cell_type": "code",
   "execution_count": 161,
   "metadata": {},
   "outputs": [
    {
     "data": {
      "text/plain": [
       "0.38981834390812686"
      ]
     },
     "execution_count": 161,
     "metadata": {},
     "output_type": "execute_result"
    }
   ],
   "source": [
    "# start with a Random Forest due to ease of use \n",
    "rf_model = RandomForestClassifier(random_state=42)\n",
    "rf_model = rf_model.fit(X_train, y_train)\n",
    "rf_predictions = rf_model.predict_proba(X_test)[:,1]\n",
    "log_loss(rf_predictions, y_test)"
   ]
  },
  {
   "cell_type": "code",
   "execution_count": 166,
   "metadata": {},
   "outputs": [
    {
     "data": {
      "text/plain": [
       "0.5265653129406305"
      ]
     },
     "execution_count": 166,
     "metadata": {},
     "output_type": "execute_result"
    }
   ],
   "source": [
    "# Naive Bayes again due to ease of use\n",
    "nb_model = GaussianNB()\n",
    "nb_model = nb_model.fit(X_train, y_train)\n",
    "nb_predictions = nb_model.predict_proba(X_test)[:,1]\n",
    "log_loss(nb_predictions, y_test)"
   ]
  },
  {
   "cell_type": "code",
   "execution_count": null,
   "metadata": {},
   "outputs": [],
   "source": []
  }
 ],
 "metadata": {
  "kernelspec": {
   "display_name": "Python 3",
   "language": "python",
   "name": "python3"
  },
  "language_info": {
   "codemirror_mode": {
    "name": "ipython",
    "version": 3
   },
   "file_extension": ".py",
   "mimetype": "text/x-python",
   "name": "python",
   "nbconvert_exporter": "python",
   "pygments_lexer": "ipython3",
   "version": "3.6.5"
  }
 },
 "nbformat": 4,
 "nbformat_minor": 2
}
