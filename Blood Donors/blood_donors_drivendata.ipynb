{
 "cells": [
  {
   "cell_type": "markdown",
   "metadata": {},
   "source": [
    "# Predicting Blood Donors - Driven Data Competition\n",
    "This dataset is part of a competition on drivendata.org and the goal is to predict who will donate to a blood drive "
   ]
  },
  {
   "cell_type": "markdown",
   "metadata": {},
   "source": [
    "# Data Import and Exploration"
   ]
  },
  {
   "cell_type": "code",
   "execution_count": 61,
   "metadata": {},
   "outputs": [],
   "source": [
    "import pandas as pd\n",
    "import numpy as np\n",
    "import matplotlib as plt\n",
    "from sklearn.ensemble import RandomForestClassifier\n",
    "from sklearn.naive_bayes import GaussianNB\n",
    "from sklearn.linear_model import LogisticRegression\n",
    "from sklearn.neural_network import MLPClassifier\n",
    "from sklearn.metrics import accuracy_score\n",
    "from sklearn.model_selection import train_test_split \n",
    "from sklearn import preprocessing \n",
    "from sklearn.metrics import log_loss\n",
    "from math import log\n",
    "\n",
    "%matplotlib inline"
   ]
  },
  {
   "cell_type": "code",
   "execution_count": 38,
   "metadata": {},
   "outputs": [],
   "source": [
    "# read in the training data set\n",
    "train = pd.read_csv(\"training_data.csv\", index_col=0)\n",
    "# read in test data set\n",
    "test = pd.read_csv(\"test_data.csv\", index_col=0)"
   ]
  },
  {
   "cell_type": "code",
   "execution_count": 39,
   "metadata": {},
   "outputs": [
    {
     "name": "stdout",
     "output_type": "stream",
     "text": [
      "Shape of training data:  (576, 5) \n",
      "\n",
      "Top 5 rows of training data: \n",
      "      Months since Last Donation  Number of Donations  \\\n",
      "619                           2                   50   \n",
      "664                           0                   13   \n",
      "441                           1                   16   \n",
      "160                           2                   20   \n",
      "358                           1                   24   \n",
      "\n",
      "     Total Volume Donated (c.c.)  Months since First Donation  \\\n",
      "619                        12500                           98   \n",
      "664                         3250                           28   \n",
      "441                         4000                           35   \n",
      "160                         5000                           45   \n",
      "358                         6000                           77   \n",
      "\n",
      "     Made Donation in March 2007  \n",
      "619                            1  \n",
      "664                            1  \n",
      "441                            1  \n",
      "160                            1  \n",
      "358                            0   \n",
      "\n",
      "Data types of training data: \n",
      " Months since Last Donation     int64\n",
      "Number of Donations            int64\n",
      "Total Volume Donated (c.c.)    int64\n",
      "Months since First Donation    int64\n",
      "Made Donation in March 2007    int64\n",
      "dtype: object \n",
      "\n",
      "Summary of training data: \n",
      "        Months since Last Donation  Number of Donations  \\\n",
      "count                  576.000000           576.000000   \n",
      "mean                     9.439236             5.427083   \n",
      "std                      8.175454             5.740010   \n",
      "min                      0.000000             1.000000   \n",
      "25%                      2.000000             2.000000   \n",
      "50%                      7.000000             4.000000   \n",
      "75%                     14.000000             7.000000   \n",
      "max                     74.000000            50.000000   \n",
      "\n",
      "       Total Volume Donated (c.c.)  Months since First Donation  \\\n",
      "count                   576.000000                   576.000000   \n",
      "mean                   1356.770833                    34.050347   \n",
      "std                    1435.002556                    24.227672   \n",
      "min                     250.000000                     2.000000   \n",
      "25%                     500.000000                    16.000000   \n",
      "50%                    1000.000000                    28.000000   \n",
      "75%                    1750.000000                    49.250000   \n",
      "max                   12500.000000                    98.000000   \n",
      "\n",
      "       Made Donation in March 2007  \n",
      "count                   576.000000  \n",
      "mean                      0.239583  \n",
      "std                       0.427200  \n",
      "min                       0.000000  \n",
      "25%                       0.000000  \n",
      "50%                       0.000000  \n",
      "75%                       0.000000  \n",
      "max                       1.000000   \n",
      "\n",
      "Number of missing values in training data: \n",
      " Months since Last Donation     0\n",
      "Number of Donations            0\n",
      "Total Volume Donated (c.c.)    0\n",
      "Months since First Donation    0\n",
      "Made Donation in March 2007    0\n",
      "dtype: int64 \n",
      "\n"
     ]
    }
   ],
   "source": [
    "print(\"Shape of training data: \", train.shape, \"\\n\")\n",
    "print(\"Top 5 rows of training data: \\n\", train.head(5), \"\\n\")\n",
    "print(\"Data types of training data: \\n\", train.dtypes, \"\\n\")\n",
    "print(\"Summary of training data: \\n\", train.describe(), \"\\n\")\n",
    "print(\"Number of missing values in training data: \\n\", train.isna().sum(), \"\\n\")"
   ]
  },
  {
   "cell_type": "code",
   "execution_count": 40,
   "metadata": {},
   "outputs": [
    {
     "name": "stdout",
     "output_type": "stream",
     "text": [
      "619    1\n",
      "664    1\n",
      "441    1\n",
      "160    1\n",
      "358    0\n",
      "335    0\n",
      "47     1\n",
      "164    0\n",
      "736    1\n",
      "436    0\n",
      "Name: Made Donation in March 2007, dtype: int64\n"
     ]
    },
    {
     "data": {
      "text/html": [
       "<div>\n",
       "<style scoped>\n",
       "    .dataframe tbody tr th:only-of-type {\n",
       "        vertical-align: middle;\n",
       "    }\n",
       "\n",
       "    .dataframe tbody tr th {\n",
       "        vertical-align: top;\n",
       "    }\n",
       "\n",
       "    .dataframe thead th {\n",
       "        text-align: right;\n",
       "    }\n",
       "</style>\n",
       "<table border=\"1\" class=\"dataframe\">\n",
       "  <thead>\n",
       "    <tr style=\"text-align: right;\">\n",
       "      <th></th>\n",
       "      <th>Months since Last Donation</th>\n",
       "      <th>Number of Donations</th>\n",
       "      <th>Total Volume Donated (c.c.)</th>\n",
       "      <th>Months since First Donation</th>\n",
       "    </tr>\n",
       "  </thead>\n",
       "  <tbody>\n",
       "    <tr>\n",
       "      <th>619</th>\n",
       "      <td>2</td>\n",
       "      <td>50</td>\n",
       "      <td>12500</td>\n",
       "      <td>98</td>\n",
       "    </tr>\n",
       "    <tr>\n",
       "      <th>664</th>\n",
       "      <td>0</td>\n",
       "      <td>13</td>\n",
       "      <td>3250</td>\n",
       "      <td>28</td>\n",
       "    </tr>\n",
       "    <tr>\n",
       "      <th>441</th>\n",
       "      <td>1</td>\n",
       "      <td>16</td>\n",
       "      <td>4000</td>\n",
       "      <td>35</td>\n",
       "    </tr>\n",
       "    <tr>\n",
       "      <th>160</th>\n",
       "      <td>2</td>\n",
       "      <td>20</td>\n",
       "      <td>5000</td>\n",
       "      <td>45</td>\n",
       "    </tr>\n",
       "    <tr>\n",
       "      <th>358</th>\n",
       "      <td>1</td>\n",
       "      <td>24</td>\n",
       "      <td>6000</td>\n",
       "      <td>77</td>\n",
       "    </tr>\n",
       "  </tbody>\n",
       "</table>\n",
       "</div>"
      ],
      "text/plain": [
       "     Months since Last Donation  Number of Donations  \\\n",
       "619                           2                   50   \n",
       "664                           0                   13   \n",
       "441                           1                   16   \n",
       "160                           2                   20   \n",
       "358                           1                   24   \n",
       "\n",
       "     Total Volume Donated (c.c.)  Months since First Donation  \n",
       "619                        12500                           98  \n",
       "664                         3250                           28  \n",
       "441                         4000                           35  \n",
       "160                         5000                           45  \n",
       "358                         6000                           77  "
      ]
     },
     "execution_count": 40,
     "metadata": {},
     "output_type": "execute_result"
    }
   ],
   "source": [
    "# The training data set contains the target label for each row (whether a person donated) so we need\n",
    "# to remove that and store it before using the data to make predictions\n",
    "y = train[\"Made Donation in March 2007\"]\n",
    "\n",
    "# take a look at labels to make sure the correct information is present\n",
    "print(y[0:10])\n",
    "\n",
    "# remove the columns \n",
    "train = train.drop(columns = [\"Made Donation in March 2007\"])\n",
    "\n",
    "# check dataframe to confirm dropped columns\n",
    "train.head()"
   ]
  },
  {
   "cell_type": "code",
   "execution_count": 41,
   "metadata": {},
   "outputs": [
    {
     "data": {
      "text/plain": [
       "array([[<matplotlib.axes._subplots.AxesSubplot object at 0x0000015DF53425F8>,\n",
       "        <matplotlib.axes._subplots.AxesSubplot object at 0x0000015DF540FB38>],\n",
       "       [<matplotlib.axes._subplots.AxesSubplot object at 0x0000015DF5436E48>,\n",
       "        <matplotlib.axes._subplots.AxesSubplot object at 0x0000015DF5469198>]],\n",
       "      dtype=object)"
      ]
     },
     "execution_count": 41,
     "metadata": {},
     "output_type": "execute_result"
    },
    {
     "data": {
      "image/png": "[encoded data removed]",
      "text/plain": [
       "<Figure size 432x288 with 4 Axes>"
      ]
     },
     "metadata": {},
     "output_type": "display_data"
    }
   ],
   "source": [
    "# check histograms of columns\n",
    "train.hist()"
   ]
  },
  {
   "cell_type": "code",
   "execution_count": 42,
   "metadata": {},
   "outputs": [
    {
     "name": "stdout",
     "output_type": "stream",
     "text": [
      "Outliers in Months since last donation:  4\n",
      "Outliers in number of donations:  6\n",
      "Outliers in volume donated:  6\n"
     ]
    }
   ],
   "source": [
    "# check number of outliers\n",
    "# months since last donation appears to have most data below 30 months. check to see how many rows are greater than 30\n",
    "print(\"Outliers in Months since last donation: \", (train[\"Months since Last Donation\"] > 30).sum())\n",
    "# number of donations outliers occur somewhere between 20 and 40, we will say roughly 30 again\n",
    "print(\"Outliers in number of donations: \", (train[\"Number of Donations\"] > 30).sum())\n",
    "# total volume donated has a outlier cutoff around 6000 or so\n",
    "print(\"Outliers in volume donated: \", (train[\"Total Volume Donated (c.c.)\"] > 6000).sum())"
   ]
  },
  {
   "cell_type": "markdown",
   "metadata": {},
   "source": [
    "***There appear to be a small number of outliers in each column. Roughly 1% or so (6 out of 576) entries of the each column. If I make the assumption that each outlier is an independent row (it is possible that some rows are outliers in mulitple columns) then at most around 3% of the data (16/576 rows) would be deleted if I chose to remove outliers. Some classification algorithms such as random forest are extremely robust to outliers so it would not affect them much if I left these rows in the data. However I am going to make the decision to remove the outliers.***"
   ]
  },
  {
   "cell_type": "code",
   "execution_count": 133,
   "metadata": {},
   "outputs": [
    {
     "name": "stdout",
     "output_type": "stream",
     "text": [
      "(566, 4)\n",
      "     Months since Last Donation  Number of Donations  \\\n",
      "664                           0                   13   \n",
      "441                           1                   16   \n",
      "160                           2                   20   \n",
      "358                           1                   24   \n",
      "335                           4                    4   \n",
      "\n",
      "     Total Volume Donated (c.c.)  Months since First Donation  \n",
      "664                         3250                           28  \n",
      "441                         4000                           35  \n",
      "160                         5000                           45  \n",
      "358                         6000                           77  \n",
      "335                         1000                            4  \n"
     ]
    },
    {
     "data": {
      "text/plain": [
       "array([[<matplotlib.axes._subplots.AxesSubplot object at 0x0000015DF5973A90>,\n",
       "        <matplotlib.axes._subplots.AxesSubplot object at 0x0000015DF6F35BE0>],\n",
       "       [<matplotlib.axes._subplots.AxesSubplot object at 0x0000015DF6CB7198>,\n",
       "        <matplotlib.axes._subplots.AxesSubplot object at 0x0000015DF6CAB7F0>]],\n",
       "      dtype=object)"
      ]
     },
     "execution_count": 133,
     "metadata": {},
     "output_type": "execute_result"
    },
    {
     "data": {
      "image/png": "[encoded data removed]",
      "text/plain": [
       "<Figure size 432x288 with 4 Axes>"
      ]
     },
     "metadata": {},
     "output_type": "display_data"
    }
   ],
   "source": [
    "# combined logic checks for outliers from above. create a logical vector for subsetting data frame\n",
    "outliers = (train[\"Months since Last Donation\"] > 30) \\\n",
    "| (train[\"Number of Donations\"] > 30) \\\n",
    "| (train[\"Total Volume Donated (c.c.)\"] > 6000)\n",
    "\n",
    "# subset training data\n",
    "train_no_outliers = train[~outliers]\n",
    "\n",
    "# check training data without outliers\n",
    "print(train_no_outliers.shape)\n",
    "print(train_no_outliers.head(5))\n",
    "train_no_outliers.hist()"
   ]
  },
  {
   "cell_type": "code",
   "execution_count": 134,
   "metadata": {},
   "outputs": [
    {
     "data": {
      "text/plain": [
       "566"
      ]
     },
     "execution_count": 134,
     "metadata": {},
     "output_type": "execute_result"
    }
   ],
   "source": [
    "# need to make sure to create labels without outliers as well\n",
    "y_no_outliers = y[~outliers]\n",
    "\n",
    "#check length of labels\n",
    "len(y_no_outliers)"
   ]
  },
  {
   "cell_type": "markdown",
   "metadata": {},
   "source": [
    "***Even after outliers have been removed there appears to be some skew in the data of number of donations as well as total volume donated. Another point to take in to consideration is the scale of the values from the different columns. Months since last donation ranges from 0 to 30 while the total volume donated ranges from 0 to 6000. This will cause some algorithms to heavily weight the influence of total volume due to its large values. Therefore scaling or normalization will be a necessary step for those algorithms.***"
   ]
  },
  {
   "cell_type": "code",
   "execution_count": 45,
   "metadata": {},
   "outputs": [
    {
     "name": "stdout",
     "output_type": "stream",
     "text": [
      "     Months since Last Donation  Number of Donations  \\\n",
      "664                   -1.292291             1.846876   \n",
      "441                   -1.151060             2.545006   \n",
      "160                   -1.009828             3.475845   \n",
      "358                   -1.151060             4.406683   \n",
      "335                   -0.727366            -0.247511   \n",
      "\n",
      "     Total Volume Donated (c.c.)  Months since First Donation  \n",
      "664                     1.846876                    -0.221954  \n",
      "441                     2.545006                     0.077155  \n",
      "160                     3.475845                     0.504454  \n",
      "358                     4.406683                     1.871808  \n",
      "335                    -0.247511                    -1.247469  \n"
     ]
    },
    {
     "data": {
      "text/plain": [
       "array([[<matplotlib.axes._subplots.AxesSubplot object at 0x0000015DF54FD278>,\n",
       "        <matplotlib.axes._subplots.AxesSubplot object at 0x0000015DF56F61D0>],\n",
       "       [<matplotlib.axes._subplots.AxesSubplot object at 0x0000015DF571E828>,\n",
       "        <matplotlib.axes._subplots.AxesSubplot object at 0x0000015DF5745EB8>]],\n",
       "      dtype=object)"
      ]
     },
     "execution_count": 45,
     "metadata": {},
     "output_type": "execute_result"
    },
    {
     "data": {
      "image/png": "[encoded data removed]",
      "text/plain": [
       "<Figure size 432x288 with 4 Axes>"
      ]
     },
     "metadata": {},
     "output_type": "display_data"
    }
   ],
   "source": [
    "# standardizing data set\n",
    "std_scale = preprocessing.StandardScaler().fit(train_no_outliers)\n",
    "train_std = std_scale.transform(train_no_outliers)\n",
    "# create data frame from scaled data\n",
    "train_std = pd.DataFrame(train_std, index=train_no_outliers.index, columns=train_no_outliers.columns)\n",
    "# check top rows and histograms of scaled data\n",
    "print(train_std.head())\n",
    "train_std.hist()"
   ]
  },
  {
   "cell_type": "markdown",
   "metadata": {},
   "source": [
    "*** Since the test data provided for this competition does not have labels, I have chosen to split my training data into train/test sets for model evaluation***"
   ]
  },
  {
   "cell_type": "code",
   "execution_count": 46,
   "metadata": {},
   "outputs": [
    {
     "name": "stdout",
     "output_type": "stream",
     "text": [
      "(396, 4)\n",
      "396\n"
     ]
    },
    {
     "data": {
      "text/html": [
       "<div>\n",
       "<style scoped>\n",
       "    .dataframe tbody tr th:only-of-type {\n",
       "        vertical-align: middle;\n",
       "    }\n",
       "\n",
       "    .dataframe tbody tr th {\n",
       "        vertical-align: top;\n",
       "    }\n",
       "\n",
       "    .dataframe thead th {\n",
       "        text-align: right;\n",
       "    }\n",
       "</style>\n",
       "<table border=\"1\" class=\"dataframe\">\n",
       "  <thead>\n",
       "    <tr style=\"text-align: right;\">\n",
       "      <th></th>\n",
       "      <th>Months since Last Donation</th>\n",
       "      <th>Number of Donations</th>\n",
       "      <th>Total Volume Donated (c.c.)</th>\n",
       "      <th>Months since First Donation</th>\n",
       "    </tr>\n",
       "  </thead>\n",
       "  <tbody>\n",
       "    <tr>\n",
       "      <th>295</th>\n",
       "      <td>1.956028</td>\n",
       "      <td>-0.247511</td>\n",
       "      <td>-0.247511</td>\n",
       "      <td>2.299106</td>\n",
       "    </tr>\n",
       "    <tr>\n",
       "      <th>689</th>\n",
       "      <td>-0.727366</td>\n",
       "      <td>-0.945640</td>\n",
       "      <td>-0.945640</td>\n",
       "      <td>-1.247469</td>\n",
       "    </tr>\n",
       "    <tr>\n",
       "      <th>420</th>\n",
       "      <td>1.956028</td>\n",
       "      <td>1.614167</td>\n",
       "      <td>1.614167</td>\n",
       "      <td>2.256376</td>\n",
       "    </tr>\n",
       "    <tr>\n",
       "      <th>468</th>\n",
       "      <td>1.673565</td>\n",
       "      <td>-0.712931</td>\n",
       "      <td>-0.712931</td>\n",
       "      <td>-0.435603</td>\n",
       "    </tr>\n",
       "    <tr>\n",
       "      <th>593</th>\n",
       "      <td>0.967409</td>\n",
       "      <td>-0.014801</td>\n",
       "      <td>-0.014801</td>\n",
       "      <td>1.145401</td>\n",
       "    </tr>\n",
       "  </tbody>\n",
       "</table>\n",
       "</div>"
      ],
      "text/plain": [
       "     Months since Last Donation  Number of Donations  \\\n",
       "295                    1.956028            -0.247511   \n",
       "689                   -0.727366            -0.945640   \n",
       "420                    1.956028             1.614167   \n",
       "468                    1.673565            -0.712931   \n",
       "593                    0.967409            -0.014801   \n",
       "\n",
       "     Total Volume Donated (c.c.)  Months since First Donation  \n",
       "295                    -0.247511                     2.299106  \n",
       "689                    -0.945640                    -1.247469  \n",
       "420                     1.614167                     2.256376  \n",
       "468                    -0.712931                    -0.435603  \n",
       "593                    -0.014801                     1.145401  "
      ]
     },
     "execution_count": 46,
     "metadata": {},
     "output_type": "execute_result"
    }
   ],
   "source": [
    "# create train/test split for model evaluation\n",
    "X_train, X_test, y_train, y_test = train_test_split(train_std, y_no_outliers, test_size = .3, random_state = 1337)\n",
    "# quick data check\n",
    "print(X_train.shape)\n",
    "print(len(y_train))\n",
    "X_train.head()"
   ]
  },
  {
   "cell_type": "code",
   "execution_count": 95,
   "metadata": {},
   "outputs": [],
   "source": [
    "# This competition uses log loss as its evaluation metric, therefore I will create a function to calculate log loss\n",
    "def log_loss_custom(predictions, actuals):\n",
    "    #convert to numpy arrays for element wise multiplication without list comprehension\n",
    "    predictions, actuals = np.array(predictions), np.array(actuals)\n",
    "    n = len(predictions)\n",
    "    # equation for log loss, adding and subtracting small values from predictions to avoid log(0) errors\n",
    "    return  - sum( (actuals * [log(i) for i in predictions+1e-15]) \\\n",
    "                  + ((1-actuals)*[log(1-i) for i in predictions-1e-15] )) / n"
   ]
  },
  {
   "cell_type": "code",
   "execution_count": 97,
   "metadata": {},
   "outputs": [
    {
     "data": {
      "text/plain": [
       "2.2360029694756967"
      ]
     },
     "execution_count": 97,
     "metadata": {},
     "output_type": "execute_result"
    }
   ],
   "source": [
    "# start with a Random Forest due to ease of use \n",
    "rf_model = RandomForestClassifier(random_state=42)\n",
    "rf_model = rf_model.fit(X_train, y_train)\n",
    "rf_predictions = rf_model.predict_proba(X_test)[:,1]\n",
    "#print(log_loss_custom(rf_predictions, y_test))\n",
    "log_loss(y_test,rf_predictions)"
   ]
  },
  {
   "cell_type": "code",
   "execution_count": 98,
   "metadata": {},
   "outputs": [
    {
     "data": {
      "text/plain": [
       "0.5265653129406301"
      ]
     },
     "execution_count": 98,
     "metadata": {},
     "output_type": "execute_result"
    }
   ],
   "source": [
    "# Naive Bayes again due to ease of use\n",
    "nb_model = GaussianNB()\n",
    "nb_model = nb_model.fit(X_train, y_train)\n",
    "nb_predictions = nb_model.predict_proba(X_test)[:,1]\n",
    "#log_loss_custom(nb_predictions, y_test)\n",
    "log_loss(y_test,nb_predictions)"
   ]
  },
  {
   "cell_type": "code",
   "execution_count": 110,
   "metadata": {},
   "outputs": [
    {
     "data": {
      "text/plain": [
       "0.4656332468184813"
      ]
     },
     "execution_count": 110,
     "metadata": {},
     "output_type": "execute_result"
    }
   ],
   "source": [
    "# Logistic regression\n",
    "logreg_model = LogisticRegression(solver=\"lbfgs\",C=0.5, max_iter=500)\n",
    "logreg_model = logreg_model.fit(X_train, y_train)\n",
    "logreg_predictions = logreg_model.predict_proba(X_test)[:,1]\n",
    "#log_loss_custom(logreg_predictions, y_test)\n",
    "log_loss(y_test,logreg_predictions)"
   ]
  },
  {
   "cell_type": "code",
   "execution_count": 124,
   "metadata": {},
   "outputs": [
    {
     "data": {
      "text/plain": [
       "0.46585019171534925"
      ]
     },
     "execution_count": 124,
     "metadata": {},
     "output_type": "execute_result"
    }
   ],
   "source": [
    "# mutlilayer perceptron\n",
    "mlp_model = MLPClassifier(solver=\"lbfgs\", alpha=1e-8,hidden_layer_sizes=(6,2))\n",
    "mlp_model = mlp_model.fit(X_train, y_train)\n",
    "mlp_predictions = mlp_model.predict_proba(X_test)[:,1]\n",
    "#log_loss_custom(mlp_predictions, y_test)\n",
    "log_loss(y_test,mlp_predictions)"
   ]
  },
  {
   "cell_type": "markdown",
   "metadata": {},
   "source": [
    "## Transformations on skewed variables and second attempt at modeling"
   ]
  },
  {
   "cell_type": "code",
   "execution_count": 142,
   "metadata": {},
   "outputs": [
    {
     "name": "stdout",
     "output_type": "stream",
     "text": [
      "Before transformations: \n",
      " [[<matplotlib.axes._subplots.AxesSubplot object at 0x0000015DF7540A90>\n",
      "  <matplotlib.axes._subplots.AxesSubplot object at 0x0000015DF5B32CC0>]\n",
      " [<matplotlib.axes._subplots.AxesSubplot object at 0x0000015DF6C95B00>\n",
      "  <matplotlib.axes._subplots.AxesSubplot object at 0x0000015DF6ED3748>]]\n",
      "After transformations: \n",
      " [[<matplotlib.axes._subplots.AxesSubplot object at 0x0000015DF6CF0940>\n",
      "  <matplotlib.axes._subplots.AxesSubplot object at 0x0000015DF5B62668>]\n",
      " [<matplotlib.axes._subplots.AxesSubplot object at 0x0000015DF59D04E0>\n",
      "  <matplotlib.axes._subplots.AxesSubplot object at 0x0000015DF5BF82B0>]]\n"
     ]
    },
    {
     "data": {
      "image/png": "[encoded data removed]",
      "text/plain": [
       "<Figure size 432x288 with 4 Axes>"
      ]
     },
     "metadata": {},
     "output_type": "display_data"
    },
    {
     "data": {
      "image/png": "[encoded data removed]",
      "text/plain": [
       "<Figure size 432x288 with 4 Axes>"
      ]
     },
     "metadata": {},
     "output_type": "display_data"
    }
   ],
   "source": [
    "# transforming skewed data columns\n",
    "print(\"Before transformations: \\n\", train_no_outliers.hist())\n",
    "# create a copy of data frame withot outliers\n",
    "train_fix_skew = train_no_outliers.copy()\n",
    "# apply transformation to new data. use original data frame so not constantly applying transform\n",
    "# every time this cell is run\n",
    "train_fix_skew.loc[:,\"Number of Donations\"] = train_no_outliers.loc[:,\"Number of Donations\"].apply(log)\n",
    "train_fix_skew.loc[:,\"Total Volume Donated (c.c.)\"] = train_no_outliers.loc[:,\"Total Volume Donated (c.c.)\"].apply(log)\n",
    "print(\"After transformations: \\n\", train_fix_skew.hist())"
   ]
  },
  {
   "cell_type": "code",
   "execution_count": 143,
   "metadata": {},
   "outputs": [
    {
     "name": "stdout",
     "output_type": "stream",
     "text": [
      "     Months since Last Donation  Number of Donations  \\\n",
      "664                   -1.292291             1.498375   \n",
      "441                   -1.151060             1.739180   \n",
      "160                   -1.009828             1.997964   \n",
      "358                   -1.151060             2.209407   \n",
      "335                   -0.727366             0.131462   \n",
      "\n",
      "     Total Volume Donated (c.c.)  Months since First Donation  \n",
      "664                     1.498375                    -0.221954  \n",
      "441                     1.739180                     0.077155  \n",
      "160                     1.997964                     0.504454  \n",
      "358                     2.209407                     1.871808  \n",
      "335                     0.131462                    -1.247469  \n"
     ]
    },
    {
     "data": {
      "text/plain": [
       "array([[<matplotlib.axes._subplots.AxesSubplot object at 0x0000015DF6D4A7B8>,\n",
       "        <matplotlib.axes._subplots.AxesSubplot object at 0x0000015DF5C65438>],\n",
       "       [<matplotlib.axes._subplots.AxesSubplot object at 0x0000015DF6ED2A90>,\n",
       "        <matplotlib.axes._subplots.AxesSubplot object at 0x0000015DF7583128>]],\n",
       "      dtype=object)"
      ]
     },
     "execution_count": 143,
     "metadata": {},
     "output_type": "execute_result"
    },
    {
     "data": {
      "image/png": "[encoded data removed]",
      "text/plain": [
       "<Figure size 432x288 with 4 Axes>"
      ]
     },
     "metadata": {},
     "output_type": "display_data"
    }
   ],
   "source": [
    "# standardizing data set\n",
    "std_scale = preprocessing.StandardScaler().fit(train_fix_skew)\n",
    "train_std = std_scale.transform(train_fix_skew)\n",
    "# create data frame from scaled data\n",
    "train_std = pd.DataFrame(train_std, index=train_fix_skew.index, columns=train_fix_skew.columns)\n",
    "# check top rows and histograms of scaled data\n",
    "print(train_std.head())\n",
    "train_std.hist()"
   ]
  },
  {
   "cell_type": "code",
   "execution_count": 144,
   "metadata": {},
   "outputs": [
    {
     "name": "stdout",
     "output_type": "stream",
     "text": [
      "(396, 4)\n",
      "396\n"
     ]
    },
    {
     "data": {
      "text/html": [
       "<div>\n",
       "<style scoped>\n",
       "    .dataframe tbody tr th:only-of-type {\n",
       "        vertical-align: middle;\n",
       "    }\n",
       "\n",
       "    .dataframe tbody tr th {\n",
       "        vertical-align: top;\n",
       "    }\n",
       "\n",
       "    .dataframe thead th {\n",
       "        text-align: right;\n",
       "    }\n",
       "</style>\n",
       "<table border=\"1\" class=\"dataframe\">\n",
       "  <thead>\n",
       "    <tr style=\"text-align: right;\">\n",
       "      <th></th>\n",
       "      <th>Months since Last Donation</th>\n",
       "      <th>Number of Donations</th>\n",
       "      <th>Total Volume Donated (c.c.)</th>\n",
       "      <th>Months since First Donation</th>\n",
       "    </tr>\n",
       "  </thead>\n",
       "  <tbody>\n",
       "    <tr>\n",
       "      <th>295</th>\n",
       "      <td>1.956028</td>\n",
       "      <td>0.131462</td>\n",
       "      <td>0.131462</td>\n",
       "      <td>2.299106</td>\n",
       "    </tr>\n",
       "    <tr>\n",
       "      <th>689</th>\n",
       "      <td>-0.727366</td>\n",
       "      <td>-1.476255</td>\n",
       "      <td>-1.476255</td>\n",
       "      <td>-1.247469</td>\n",
       "    </tr>\n",
       "    <tr>\n",
       "      <th>420</th>\n",
       "      <td>1.956028</td>\n",
       "      <td>1.405548</td>\n",
       "      <td>1.405548</td>\n",
       "      <td>2.256376</td>\n",
       "    </tr>\n",
       "    <tr>\n",
       "      <th>468</th>\n",
       "      <td>1.673565</td>\n",
       "      <td>-0.672396</td>\n",
       "      <td>-0.672396</td>\n",
       "      <td>-0.435603</td>\n",
       "    </tr>\n",
       "    <tr>\n",
       "      <th>593</th>\n",
       "      <td>0.967409</td>\n",
       "      <td>0.390247</td>\n",
       "      <td>0.390247</td>\n",
       "      <td>1.145401</td>\n",
       "    </tr>\n",
       "  </tbody>\n",
       "</table>\n",
       "</div>"
      ],
      "text/plain": [
       "     Months since Last Donation  Number of Donations  \\\n",
       "295                    1.956028             0.131462   \n",
       "689                   -0.727366            -1.476255   \n",
       "420                    1.956028             1.405548   \n",
       "468                    1.673565            -0.672396   \n",
       "593                    0.967409             0.390247   \n",
       "\n",
       "     Total Volume Donated (c.c.)  Months since First Donation  \n",
       "295                     0.131462                     2.299106  \n",
       "689                    -1.476255                    -1.247469  \n",
       "420                     1.405548                     2.256376  \n",
       "468                    -0.672396                    -0.435603  \n",
       "593                     0.390247                     1.145401  "
      ]
     },
     "execution_count": 144,
     "metadata": {},
     "output_type": "execute_result"
    }
   ],
   "source": [
    "# create train/test split for model evaluation\n",
    "X_train, X_test, y_train, y_test = train_test_split(train_std, y_no_outliers, test_size = .3, random_state = 1337)\n",
    "# quick data check\n",
    "print(X_train.shape)\n",
    "print(len(y_train))\n",
    "X_train.head()"
   ]
  },
  {
   "cell_type": "code",
   "execution_count": 145,
   "metadata": {},
   "outputs": [
    {
     "data": {
      "text/plain": [
       "2.238910485177859"
      ]
     },
     "execution_count": 145,
     "metadata": {},
     "output_type": "execute_result"
    }
   ],
   "source": [
    "# start with a Random Forest due to ease of use \n",
    "rf_model = RandomForestClassifier(random_state=42)\n",
    "rf_model = rf_model.fit(X_train, y_train)\n",
    "rf_predictions = rf_model.predict_proba(X_test)[:,1]\n",
    "#print(log_loss_custom(rf_predictions, y_test))\n",
    "log_loss(y_test,rf_predictions)"
   ]
  },
  {
   "cell_type": "code",
   "execution_count": 146,
   "metadata": {},
   "outputs": [
    {
     "data": {
      "text/plain": [
       "0.4903076809826416"
      ]
     },
     "execution_count": 146,
     "metadata": {},
     "output_type": "execute_result"
    }
   ],
   "source": [
    "# Naive Bayes again due to ease of use\n",
    "nb_model = GaussianNB()\n",
    "nb_model = nb_model.fit(X_train, y_train)\n",
    "nb_predictions = nb_model.predict_proba(X_test)[:,1]\n",
    "#log_loss_custom(nb_predictions, y_test)\n",
    "log_loss(y_test,nb_predictions)"
   ]
  },
  {
   "cell_type": "code",
   "execution_count": 147,
   "metadata": {},
   "outputs": [
    {
     "data": {
      "text/plain": [
       "0.45233365513946494"
      ]
     },
     "execution_count": 147,
     "metadata": {},
     "output_type": "execute_result"
    }
   ],
   "source": [
    "# Logistic regression\n",
    "logreg_model = LogisticRegression(solver=\"lbfgs\",C=0.5, max_iter=500)\n",
    "logreg_model = logreg_model.fit(X_train, y_train)\n",
    "logreg_predictions = logreg_model.predict_proba(X_test)[:,1]\n",
    "#log_loss_custom(logreg_predictions, y_test)\n",
    "log_loss(y_test,logreg_predictions)"
   ]
  },
  {
   "cell_type": "code",
   "execution_count": 148,
   "metadata": {},
   "outputs": [
    {
     "data": {
      "text/plain": [
       "0.47466130259151"
      ]
     },
     "execution_count": 148,
     "metadata": {},
     "output_type": "execute_result"
    }
   ],
   "source": [
    "# mutlilayer perceptron\n",
    "mlp_model = MLPClassifier(solver=\"lbfgs\", alpha=1e-8,hidden_layer_sizes=(6,2))\n",
    "mlp_model = mlp_model.fit(X_train, y_train)\n",
    "mlp_predictions = mlp_model.predict_proba(X_test)[:,1]\n",
    "#log_loss_custom(mlp_predictions, y_test)\n",
    "log_loss(y_test,mlp_predictions)"
   ]
  },
  {
   "cell_type": "markdown",
   "metadata": {},
   "source": [
    "## Making predictions on test data and exporting for submission"
   ]
  },
  {
   "cell_type": "code",
   "execution_count": 101,
   "metadata": {},
   "outputs": [
    {
     "name": "stdout",
     "output_type": "stream",
     "text": [
      "Shape of testing data:  (200, 4) \n",
      "\n",
      "Top 5 rows of testing data: \n",
      "      Months since Last Donation  Number of Donations  \\\n",
      "659                           2                   12   \n",
      "276                          21                    7   \n",
      "263                           4                    1   \n",
      "303                          11                   11   \n",
      "83                            4                   12   \n",
      "\n",
      "     Total Volume Donated (c.c.)  Months since First Donation  \n",
      "659                         3000                           52  \n",
      "276                         1750                           38  \n",
      "263                          250                            4  \n",
      "303                         2750                           38  \n",
      "83                          3000                           34   \n",
      "\n",
      "Data types of testing data: \n",
      " Months since Last Donation     int64\n",
      "Number of Donations            int64\n",
      "Total Volume Donated (c.c.)    int64\n",
      "Months since First Donation    int64\n",
      "dtype: object \n",
      "\n",
      "Summary of testing data: \n",
      "        Months since Last Donation  Number of Donations  \\\n",
      "count                   200.00000           200.000000   \n",
      "mean                      9.49500             5.935000   \n",
      "std                       7.61907             6.125224   \n",
      "min                       0.00000             1.000000   \n",
      "25%                       4.00000             2.000000   \n",
      "50%                       7.00000             4.000000   \n",
      "75%                      14.00000             8.000000   \n",
      "max                      40.00000            41.000000   \n",
      "\n",
      "       Total Volume Donated (c.c.)  Months since First Donation  \n",
      "count                   200.000000                   200.000000  \n",
      "mean                   1483.750000                    35.475000  \n",
      "std                    1531.305955                    25.111197  \n",
      "min                     250.000000                     2.000000  \n",
      "25%                     500.000000                    14.000000  \n",
      "50%                    1000.000000                    31.000000  \n",
      "75%                    2000.000000                    52.000000  \n",
      "max                   10250.000000                    98.000000   \n",
      "\n",
      "Number of missing values in testing data: \n",
      " Months since Last Donation     0\n",
      "Number of Donations            0\n",
      "Total Volume Donated (c.c.)    0\n",
      "Months since First Donation    0\n",
      "dtype: int64 \n",
      "\n"
     ]
    }
   ],
   "source": [
    "# check test data\n",
    "print(\"Shape of testing data: \", test.shape, \"\\n\")\n",
    "print(\"Top 5 rows of testing data: \\n\", test.head(5), \"\\n\")\n",
    "print(\"Data types of testing data: \\n\", test.dtypes, \"\\n\")\n",
    "print(\"Summary of testing data: \\n\", test.describe(), \"\\n\")\n",
    "print(\"Number of missing values in testing data: \\n\", test.isna().sum(), \"\\n\")"
   ]
  },
  {
   "cell_type": "code",
   "execution_count": 102,
   "metadata": {},
   "outputs": [
    {
     "name": "stdout",
     "output_type": "stream",
     "text": [
      "     Months since Last Donation  Number of Donations  \\\n",
      "659                   -0.986184             0.992653   \n",
      "276                    1.513816             0.174308   \n",
      "263                   -0.723026            -0.807707   \n",
      "303                    0.198026             0.828984   \n",
      "83                    -0.723026             0.992653   \n",
      "\n",
      "     Total Volume Donated (c.c.)  Months since First Donation  \n",
      "659                     0.992653                     0.659724  \n",
      "276                     0.174308                     0.100805  \n",
      "263                    -0.807707                    -1.256570  \n",
      "303                     0.828984                     0.100805  \n",
      "83                      0.992653                    -0.058886  \n"
     ]
    },
    {
     "data": {
      "text/plain": [
       "array([[<matplotlib.axes._subplots.AxesSubplot object at 0x0000015DF59EF630>,\n",
       "        <matplotlib.axes._subplots.AxesSubplot object at 0x0000015DF5A08828>],\n",
       "       [<matplotlib.axes._subplots.AxesSubplot object at 0x0000015DF5A30B38>,\n",
       "        <matplotlib.axes._subplots.AxesSubplot object at 0x0000015DF5A5AE48>]],\n",
       "      dtype=object)"
      ]
     },
     "execution_count": 102,
     "metadata": {},
     "output_type": "execute_result"
    },
    {
     "data": {
      "image/png": "[encoded data removed]",
      "text/plain": [
       "<Figure size 432x288 with 4 Axes>"
      ]
     },
     "metadata": {},
     "output_type": "display_data"
    }
   ],
   "source": [
    "# standardizing test data set since models were built on scaled data\n",
    "std_scale = preprocessing.StandardScaler().fit(test)\n",
    "test_std = std_scale.transform(test)\n",
    "# create data frame from scaled data\n",
    "test_std = pd.DataFrame(test_std, index=test.index, columns=test.columns)\n",
    "# check top rows and histograms of scaled data\n",
    "print(test_std.head())\n",
    "test_std.hist()"
   ]
  },
  {
   "cell_type": "code",
   "execution_count": 103,
   "metadata": {},
   "outputs": [
    {
     "name": "stdout",
     "output_type": "stream",
     "text": [
      "     Made Donation in March 2007\n",
      "659                          0.2\n",
      "276                          0.4\n",
      "263                          0.4\n",
      "303                          0.4\n",
      "83                           0.4\n",
      "       Made Donation in March 2007\n",
      "count                   200.000000\n",
      "mean                      0.374000\n",
      "std                       0.082206\n",
      "min                       0.200000\n",
      "25%                       0.400000\n",
      "50%                       0.400000\n",
      "75%                       0.400000\n",
      "max                       0.500000\n"
     ]
    }
   ],
   "source": [
    "# make predictions using trained Random Forest model from above\n",
    "rf_predictions = rf_model.predict_proba(test)[:,1]\n",
    "rf_predictions_df = pd.DataFrame(rf_predictions, index=test.index, columns=[\"Made Donation in March 2007\"])\n",
    "print(rf_predictions_df.head())\n",
    "print(rf_predictions_df.describe())"
   ]
  },
  {
   "cell_type": "code",
   "execution_count": 104,
   "metadata": {},
   "outputs": [],
   "source": [
    "# export to csv\n",
    "rf_predictions_df.to_csv(\"rf_donor_predictions.csv\")"
   ]
  },
  {
   "cell_type": "code",
   "execution_count": 105,
   "metadata": {},
   "outputs": [
    {
     "name": "stdout",
     "output_type": "stream",
     "text": [
      "     Made Donation in March 2007\n",
      "659                          1.0\n",
      "276                          1.0\n",
      "263                          1.0\n",
      "303                          1.0\n",
      "83                           1.0\n",
      "       Made Donation in March 2007\n",
      "count                        200.0\n",
      "mean                           1.0\n",
      "std                            0.0\n",
      "min                            1.0\n",
      "25%                            1.0\n",
      "50%                            1.0\n",
      "75%                            1.0\n",
      "max                            1.0\n"
     ]
    }
   ],
   "source": [
    "# make predictions using trained Random Forest model from above\n",
    "logreg_predictions = logreg_model.predict_proba(test)[:,1]\n",
    "logreg_predictions_df = pd.DataFrame(logreg_predictions, index=test.index, columns=[\"Made Donation in March 2007\"])\n",
    "print(logreg_predictions_df.head())\n",
    "print(logreg_predictions_df.describe())"
   ]
  },
  {
   "cell_type": "code",
   "execution_count": 106,
   "metadata": {},
   "outputs": [],
   "source": [
    "# export to csv\n",
    "logreg_predictions_df.to_csv(\"logreg_donor_predictions.csv\")"
   ]
  }
 ],
 "metadata": {
  "kernelspec": {
   "display_name": "Python 3",
   "language": "python",
   "name": "python3"
  },
  "language_info": {
   "codemirror_mode": {
    "name": "ipython",
    "version": 3
   },
   "file_extension": ".py",
   "mimetype": "text/x-python",
   "name": "python",
   "nbconvert_exporter": "python",
   "pygments_lexer": "ipython3",
   "version": "3.6.5"
  }
 },
 "nbformat": 4,
 "nbformat_minor": 2
}
